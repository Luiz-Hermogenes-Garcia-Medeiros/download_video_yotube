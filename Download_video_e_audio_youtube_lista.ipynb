{
 "cells": [
  {
   "cell_type": "code",
   "execution_count": 215,
   "id": "d51c79b8",
   "metadata": {},
   "outputs": [],
   "source": [
    "from pytube import YouTube\n",
    "import os\n",
    "import re\n",
    "import moviepy.editor as mp"
   ]
  },
  {
   "cell_type": "code",
   "execution_count": 217,
   "id": "59165829",
   "metadata": {},
   "outputs": [
    {
     "name": "stdout",
     "output_type": "stream",
     "text": [
      "Digita o nome da lista da musica: lista_musicas_1\n"
     ]
    }
   ],
   "source": [
    "lista=input(\"Digita o nome da lista da musica: \")\n",
    "f = open(str(lista)+\".txt\", \"r\")\n",
    "lista_musicas=[]\n",
    "for x in f:\n",
    "    x=x.replace(\",\\n\",\"\")\n",
    "    lista_musicas.append(x)\n",
    "f.close()"
   ]
  },
  {
   "cell_type": "code",
   "execution_count": 185,
   "id": "ace5fcc5",
   "metadata": {},
   "outputs": [],
   "source": [
    "#lista_musicas"
   ]
  },
  {
   "cell_type": "markdown",
   "id": "b37b3688",
   "metadata": {},
   "source": [
    "<h1>Informatções adicionais (opcional)</h1>"
   ]
  },
  {
   "cell_type": "code",
   "execution_count": 179,
   "id": "03c62a54",
   "metadata": {},
   "outputs": [],
   "source": [
    "#Title of video\n",
    "#print(\"Title:\",yt.title)\n",
    "#Number of views of video\n",
    "#print(\"Number of views:\",yt.views)\n",
    "#Length of the video\n",
    "#print(\"Length of video:\",yt.length,\"seconds\")\n",
    "#Description of video\n",
    "#print(\"Description: \",yt.description)\n",
    "#Rating\n",
    "#print(\"Ratings: \",yt.rating)"
   ]
  },
  {
   "cell_type": "code",
   "execution_count": 180,
   "id": "5af9b0bc",
   "metadata": {},
   "outputs": [],
   "source": [
    "path=r\"C:\\Users\\luiz\\Desktop\\musicas_amorizar\\Audios\""
   ]
  },
  {
   "cell_type": "code",
   "execution_count": 181,
   "id": "d186c1a2",
   "metadata": {},
   "outputs": [],
   "source": [
    "def downlaod_video(url):\n",
    "    #Baixando video formato mp4\n",
    "    yt = YouTube(url)\n",
    "    ys = yt.streams.get_highest_resolution()\n",
    "    print(\"Downloading...\")\n",
    "    #Starting download\n",
    "    ys.download(r\"C:\\Users\\luiz\\Desktop\\musicas_amorizar\\Videos\")\n",
    "    #print(\"Download completed!!\")"
   ]
  },
  {
   "cell_type": "code",
   "execution_count": 165,
   "id": "a027d9fa",
   "metadata": {},
   "outputs": [],
   "source": [
    "def download_audio(url):\n",
    "    #Baixando video formato mp4\n",
    "    yt = YouTube(url)\n",
    "    ys = yt.streams.get_highest_resolution()\n",
    "    print(\"Downloading...\")\n",
    "    #Starting download\n",
    "    ys.download(r\"C:\\Users\\luiz\\Desktop\\musicas_amorizar\\Audios\")\n",
    "    #print(\"Download completed!!\")"
   ]
  },
  {
   "cell_type": "code",
   "execution_count": 166,
   "id": "e42b4e3f",
   "metadata": {},
   "outputs": [],
   "source": [
    "def convertendo_mp3():\n",
    "    for file in os.listdir(path):                  #For para percorrer dentro da pasta passada anteriormente\n",
    "            if re.search('mp4', file):                 #If verificando se o arquivo e .MP4                    \n",
    "                mp4_path = os.path.join(path , file)   #Cria uma variavel para armazenar o arquivo .MP4\n",
    "                mp3_path = os.path.join(path, os.path.splitext(file)[0]+'.mp3') #Variavel que cria o nome do arquivo e adiciona .MP3 ao final\n",
    "                new_file = mp.AudioFileClip(mp4_path)  #Cria o arquivo de áudio (.MP3)\n",
    "                new_file.write_audiofile(mp3_path)     #Renomeia o arquivo, setando o nome criado anteriormente\n",
    "                os.remove(mp4_path)                    #Remove o arquivo .MP4\n",
    "                print(\"Download Completo\")"
   ]
  },
  {
   "cell_type": "code",
   "execution_count": 182,
   "id": "51138f3b",
   "metadata": {},
   "outputs": [
    {
     "name": "stdout",
     "output_type": "stream",
     "text": [
      "Downloading...\n",
      "Downloading...\n",
      "Downloading...\n",
      "Downloading...\n",
      "Downloading...\n",
      "Downloading...\n",
      "Downloading...\n",
      "Downloading...\n",
      "Downloading...\n",
      "Downloading...\n",
      "Downloading...\n",
      "Downloading...\n",
      "Downloading...\n",
      "Downloading...\n",
      "Downloading...\n",
      "Downloading...\n",
      "Downloading...\n",
      "Downloading...\n",
      "Downloading...\n",
      "Downloading...\n",
      "Downloading...\n",
      "Downloading...\n",
      "Downloading...\n",
      "Downloading...\n",
      "Downloading...\n",
      "Downloading...\n",
      "Downloading...\n",
      "Downloading...\n",
      "Downloading...\n",
      "Downloading...\n",
      "Downloading...\n",
      "Downloading...\n",
      "Download Completed\n"
     ]
    }
   ],
   "source": [
    "#baixando os video atraves dos links\n",
    "for i in lista_musicas:\n",
    "    downlaod_video(i)\n",
    "print('Download Completed')"
   ]
  },
  {
   "cell_type": "code",
   "execution_count": 168,
   "id": "ae36bccc",
   "metadata": {},
   "outputs": [
    {
     "name": "stdout",
     "output_type": "stream",
     "text": [
      "Downloading...\n",
      "Downloading...\n",
      "Downloading...\n",
      "Downloading...\n",
      "Downloading...\n",
      "Downloading...\n",
      "Downloading...\n",
      "Downloading...\n",
      "Downloading...\n",
      "Downloading...\n",
      "Downloading...\n",
      "Downloading...\n",
      "Downloading...\n",
      "Downloading...\n",
      "Downloading...\n",
      "Downloading...\n",
      "Downloading...\n",
      "Downloading...\n",
      "Downloading...\n",
      "Downloading...\n",
      "Downloading...\n",
      "Downloading...\n",
      "Downloading...\n",
      "Downloading...\n",
      "Downloading...\n",
      "Downloading...\n",
      "Downloading...\n",
      "Downloading...\n",
      "Downloading...\n",
      "Downloading...\n",
      "Downloading...\n",
      "Downloading...\n",
      "MoviePy - Writing audio in C:\\Users\\luiz\\Desktop\\musicas_amorizar\\Audios\\05 - De Chão Batido - Baitaca.mp3\n"
     ]
    },
    {
     "name": "stderr",
     "output_type": "stream",
     "text": [
      "                                                                                                                       \r"
     ]
    },
    {
     "name": "stdout",
     "output_type": "stream",
     "text": [
      "MoviePy - Done.\n",
      "Download Completo\n",
      "MoviePy - Writing audio in C:\\Users\\luiz\\Desktop\\musicas_amorizar\\Audios\\Atorando um Chote.mp3\n"
     ]
    },
    {
     "name": "stderr",
     "output_type": "stream",
     "text": [
      "                                                                                                                       \r"
     ]
    },
    {
     "name": "stdout",
     "output_type": "stream",
     "text": [
      "MoviePy - Done.\n",
      "Download Completo\n",
      "MoviePy - Writing audio in C:\\Users\\luiz\\Desktop\\musicas_amorizar\\Audios\\Baitaca - Me Orgulho em ser da Campanha (Videoclipe DVD Do Fundo da Grota).mp3\n"
     ]
    },
    {
     "name": "stderr",
     "output_type": "stream",
     "text": [
      "                                                                                                                       \r"
     ]
    },
    {
     "name": "stdout",
     "output_type": "stream",
     "text": [
      "MoviePy - Done.\n",
      "Download Completo\n",
      "MoviePy - Writing audio in C:\\Users\\luiz\\Desktop\\musicas_amorizar\\Audios\\BAITACA - Meu rio grande e deste jeito.mp3\n"
     ]
    },
    {
     "name": "stderr",
     "output_type": "stream",
     "text": [
      "                                                                                                                       \r"
     ]
    },
    {
     "name": "stdout",
     "output_type": "stream",
     "text": [
      "MoviePy - Done.\n",
      "Download Completo\n",
      "MoviePy - Writing audio in C:\\Users\\luiz\\Desktop\\musicas_amorizar\\Audios\\Baitaca - Querência Amada.mp3\n"
     ]
    },
    {
     "name": "stderr",
     "output_type": "stream",
     "text": [
      "                                                                                                                       \r"
     ]
    },
    {
     "name": "stdout",
     "output_type": "stream",
     "text": [
      "MoviePy - Done.\n",
      "Download Completo\n",
      "MoviePy - Writing audio in C:\\Users\\luiz\\Desktop\\musicas_amorizar\\Audios\\Caboclo Brasileiro.mp3\n"
     ]
    },
    {
     "name": "stderr",
     "output_type": "stream",
     "text": [
      "                                                                                                                       \r"
     ]
    },
    {
     "name": "stdout",
     "output_type": "stream",
     "text": [
      "MoviePy - Done.\n",
      "Download Completo\n",
      "MoviePy - Writing audio in C:\\Users\\luiz\\Desktop\\musicas_amorizar\\Audios\\Campeando Fandango.mp3\n"
     ]
    },
    {
     "name": "stderr",
     "output_type": "stream",
     "text": [
      "                                                                                                                       \r"
     ]
    },
    {
     "name": "stdout",
     "output_type": "stream",
     "text": [
      "MoviePy - Done.\n",
      "Download Completo\n",
      "MoviePy - Writing audio in C:\\Users\\luiz\\Desktop\\musicas_amorizar\\Audios\\Cheiro de Galpão  Vaneira Grossa (Os Monarcas).mp3\n"
     ]
    },
    {
     "name": "stderr",
     "output_type": "stream",
     "text": [
      "                                                                                                                       \r"
     ]
    },
    {
     "name": "stdout",
     "output_type": "stream",
     "text": [
      "MoviePy - Done.\n",
      "Download Completo\n",
      "MoviePy - Writing audio in C:\\Users\\luiz\\Desktop\\musicas_amorizar\\Audios\\Chiquito & Bordoneio - Roda Morena 💃🏿🎼 CTG Sentinela da Querência!.mp3\n"
     ]
    },
    {
     "name": "stderr",
     "output_type": "stream",
     "text": [
      "                                                                                                                       \r"
     ]
    },
    {
     "name": "stdout",
     "output_type": "stream",
     "text": [
      "MoviePy - Done.\n",
      "Download Completo\n",
      "MoviePy - Writing audio in C:\\Users\\luiz\\Desktop\\musicas_amorizar\\Audios\\De Bota Nova.mp3\n"
     ]
    },
    {
     "name": "stderr",
     "output_type": "stream",
     "text": [
      "                                                                                                                       \r"
     ]
    },
    {
     "name": "stdout",
     "output_type": "stream",
     "text": [
      "MoviePy - Done.\n",
      "Download Completo\n",
      "MoviePy - Writing audio in C:\\Users\\luiz\\Desktop\\musicas_amorizar\\Audios\\DVD Jeito de Galpão - Vaneirão da Noite Inteira - Meu Nome é Festa.mp3\n"
     ]
    },
    {
     "name": "stderr",
     "output_type": "stream",
     "text": [
      "                                                                                                                       \r"
     ]
    },
    {
     "name": "stdout",
     "output_type": "stream",
     "text": [
      "MoviePy - Done.\n",
      "Download Completo\n",
      "MoviePy - Writing audio in C:\\Users\\luiz\\Desktop\\musicas_amorizar\\Audios\\Festas na Serra - Tiago Machado.mp3\n"
     ]
    },
    {
     "name": "stderr",
     "output_type": "stream",
     "text": [
      "                                                                                                                       \r"
     ]
    },
    {
     "name": "stdout",
     "output_type": "stream",
     "text": [
      "MoviePy - Done.\n",
      "Download Completo\n",
      "MoviePy - Writing audio in C:\\Users\\luiz\\Desktop\\musicas_amorizar\\Audios\\FLOREANDO A CORDEONA - CLIPE OFICIAL.mp3\n"
     ]
    },
    {
     "name": "stderr",
     "output_type": "stream",
     "text": [
      "                                                                                                                       \r"
     ]
    },
    {
     "name": "stdout",
     "output_type": "stream",
     "text": [
      "MoviePy - Done.\n",
      "Download Completo\n",
      "MoviePy - Writing audio in C:\\Users\\luiz\\Desktop\\musicas_amorizar\\Audios\\Gosto Por Baile e Flor - Grupo Carona - CD Balanço Guapo.mp3\n"
     ]
    },
    {
     "name": "stderr",
     "output_type": "stream",
     "text": [
      "                                                                                                                       \r"
     ]
    },
    {
     "name": "stdout",
     "output_type": "stream",
     "text": [
      "MoviePy - Done.\n",
      "Download Completo\n",
      "MoviePy - Writing audio in C:\\Users\\luiz\\Desktop\\musicas_amorizar\\Audios\\Jeitão de Xucro.mp3\n"
     ]
    },
    {
     "name": "stderr",
     "output_type": "stream",
     "text": [
      "                                                                                                                       \r"
     ]
    },
    {
     "name": "stdout",
     "output_type": "stream",
     "text": [
      "MoviePy - Done.\n",
      "Download Completo\n",
      "MoviePy - Writing audio in C:\\Users\\luiz\\Desktop\\musicas_amorizar\\Audios\\Me Orgulho em ser da Campanha.mp3\n"
     ]
    },
    {
     "name": "stderr",
     "output_type": "stream",
     "text": [
      "                                                                                                                       \r"
     ]
    },
    {
     "name": "stdout",
     "output_type": "stream",
     "text": [
      "MoviePy - Done.\n",
      "Download Completo\n",
      "MoviePy - Writing audio in C:\\Users\\luiz\\Desktop\\musicas_amorizar\\Audios\\MENINO CAMPEIRO • CLIPE OFICIAL •  PAULINHO MOCELIN & CORAÇÃO DE GAITEIRO.mp3\n"
     ]
    },
    {
     "name": "stderr",
     "output_type": "stream",
     "text": [
      "                                                                                                                       \r"
     ]
    },
    {
     "name": "stdout",
     "output_type": "stream",
     "text": [
      "MoviePy - Done.\n",
      "Download Completo\n",
      "MoviePy - Writing audio in C:\\Users\\luiz\\Desktop\\musicas_amorizar\\Audios\\No Fandango das Chilenas-João Luiz Corrêa.mp3\n"
     ]
    },
    {
     "name": "stderr",
     "output_type": "stream",
     "text": [
      "                                                                                                                       \r"
     ]
    },
    {
     "name": "stdout",
     "output_type": "stream",
     "text": [
      "MoviePy - Done.\n",
      "Download Completo\n",
      "MoviePy - Writing audio in C:\\Users\\luiz\\Desktop\\musicas_amorizar\\Audios\\Nos Varzedos da Fronteira - Os Serranos.mp3\n"
     ]
    },
    {
     "name": "stderr",
     "output_type": "stream",
     "text": [
      "                                                                                                                       \r"
     ]
    },
    {
     "name": "stdout",
     "output_type": "stream",
     "text": [
      "MoviePy - Done.\n",
      "Download Completo\n",
      "MoviePy - Writing audio in C:\\Users\\luiz\\Desktop\\musicas_amorizar\\Audios\\Os Fagundes - Canto Alegretense.mp3\n"
     ]
    },
    {
     "name": "stderr",
     "output_type": "stream",
     "text": [
      "                                                                                                                       \r"
     ]
    },
    {
     "name": "stdout",
     "output_type": "stream",
     "text": [
      "MoviePy - Done.\n",
      "Download Completo\n",
      "MoviePy - Writing audio in C:\\Users\\luiz\\Desktop\\musicas_amorizar\\Audios\\Os Monarcas - Fandangueando (1988) LP COMPLETO.mp3\n"
     ]
    },
    {
     "name": "stderr",
     "output_type": "stream",
     "text": [
      "                                                                                                                       \r"
     ]
    },
    {
     "name": "stdout",
     "output_type": "stream",
     "text": [
      "MoviePy - Done.\n",
      "Download Completo\n",
      "MoviePy - Writing audio in C:\\Users\\luiz\\Desktop\\musicas_amorizar\\Audios\\Os Serranos - Vaneira Grossa Programa Encontro com Os Serranos.mp3\n"
     ]
    },
    {
     "name": "stderr",
     "output_type": "stream",
     "text": [
      "                                                                                                                       \r"
     ]
    },
    {
     "name": "stdout",
     "output_type": "stream",
     "text": [
      "MoviePy - Done.\n",
      "Download Completo\n",
      "MoviePy - Writing audio in C:\\Users\\luiz\\Desktop\\musicas_amorizar\\Audios\\Razões de Vida.mp3\n"
     ]
    },
    {
     "name": "stderr",
     "output_type": "stream",
     "text": [
      "                                                                                                                       \r"
     ]
    },
    {
     "name": "stdout",
     "output_type": "stream",
     "text": [
      "MoviePy - Done.\n",
      "Download Completo\n",
      "MoviePy - Writing audio in C:\\Users\\luiz\\Desktop\\musicas_amorizar\\Audios\\Sem Você Não Sou Feliz.mp3\n"
     ]
    },
    {
     "name": "stderr",
     "output_type": "stream",
     "text": [
      "                                                                                                                       \r"
     ]
    },
    {
     "name": "stdout",
     "output_type": "stream",
     "text": [
      "MoviePy - Done.\n",
      "Download Completo\n",
      "MoviePy - Writing audio in C:\\Users\\luiz\\Desktop\\musicas_amorizar\\Audios\\Sina de Andejo.mp3\n"
     ]
    },
    {
     "name": "stderr",
     "output_type": "stream",
     "text": [
      "                                                                                                                       \r"
     ]
    },
    {
     "name": "stdout",
     "output_type": "stream",
     "text": [
      "MoviePy - Done.\n",
      "Download Completo\n",
      "MoviePy - Writing audio in C:\\Users\\luiz\\Desktop\\musicas_amorizar\\Audios\\Tchê Garotos - A Vida Que o Véio Mandou.mp3\n"
     ]
    },
    {
     "name": "stderr",
     "output_type": "stream",
     "text": [
      "                                                                                                                       \r"
     ]
    },
    {
     "name": "stdout",
     "output_type": "stream",
     "text": [
      "MoviePy - Done.\n",
      "Download Completo\n",
      "MoviePy - Writing audio in C:\\Users\\luiz\\Desktop\\musicas_amorizar\\Audios\\Tordilho Negro.mp3\n"
     ]
    },
    {
     "name": "stderr",
     "output_type": "stream",
     "text": [
      "                                                                                                                       \r"
     ]
    },
    {
     "name": "stdout",
     "output_type": "stream",
     "text": [
      "MoviePy - Done.\n",
      "Download Completo\n",
      "MoviePy - Writing audio in C:\\Users\\luiz\\Desktop\\musicas_amorizar\\Audios\\TUDO VEM DO CAMPO.mp3\n"
     ]
    },
    {
     "name": "stderr",
     "output_type": "stream",
     "text": [
      "                                                                                                                       \r"
     ]
    },
    {
     "name": "stdout",
     "output_type": "stream",
     "text": [
      "MoviePy - Done.\n",
      "Download Completo\n",
      "MoviePy - Writing audio in C:\\Users\\luiz\\Desktop\\musicas_amorizar\\Audios\\Tô Voltando Pra Ficar.mp3\n"
     ]
    },
    {
     "name": "stderr",
     "output_type": "stream",
     "text": [
      "                                                                                                                       \r"
     ]
    },
    {
     "name": "stdout",
     "output_type": "stream",
     "text": [
      "MoviePy - Done.\n",
      "Download Completo\n",
      "MoviePy - Writing audio in C:\\Users\\luiz\\Desktop\\musicas_amorizar\\Audios\\Um Bagual Corcoveador   Walther Morais.mp3\n"
     ]
    },
    {
     "name": "stderr",
     "output_type": "stream",
     "text": [
      "                                                                                                                       \r"
     ]
    },
    {
     "name": "stdout",
     "output_type": "stream",
     "text": [
      "MoviePy - Done.\n",
      "Download Completo\n",
      "MoviePy - Writing audio in C:\\Users\\luiz\\Desktop\\musicas_amorizar\\Audios\\Vai que vai - Os Monarcas - João Argenir dos Santos.mp3\n"
     ]
    },
    {
     "name": "stderr",
     "output_type": "stream",
     "text": [
      "                                                                                                                       \r"
     ]
    },
    {
     "name": "stdout",
     "output_type": "stream",
     "text": [
      "MoviePy - Done.\n",
      "Download Completo\n",
      "MoviePy - Writing audio in C:\\Users\\luiz\\Desktop\\musicas_amorizar\\Audios\\Velho Casarão-Texerinha.mp3\n"
     ]
    },
    {
     "name": "stderr",
     "output_type": "stream",
     "text": [
      "                                                                                                                       "
     ]
    },
    {
     "name": "stdout",
     "output_type": "stream",
     "text": [
      "MoviePy - Done.\n",
      "Download Completo\n"
     ]
    },
    {
     "name": "stderr",
     "output_type": "stream",
     "text": [
      "\r"
     ]
    }
   ],
   "source": [
    "#baixando todos os videos e convertendo para mp3\n",
    "for i in lista_musicas:\n",
    "    download_audio(i)\n",
    "convertendo_mp3()"
   ]
  }
 ],
 "metadata": {
  "kernelspec": {
   "display_name": "Python 3 (ipykernel)",
   "language": "python",
   "name": "python3"
  },
  "language_info": {
   "codemirror_mode": {
    "name": "ipython",
    "version": 3
   },
   "file_extension": ".py",
   "mimetype": "text/x-python",
   "name": "python",
   "nbconvert_exporter": "python",
   "pygments_lexer": "ipython3",
   "version": "3.9.13"
  }
 },
 "nbformat": 4,
 "nbformat_minor": 5
}
